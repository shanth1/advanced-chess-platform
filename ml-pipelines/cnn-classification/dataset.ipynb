{
 "cells": [
  {
   "cell_type": "code",
   "execution_count": 30,
   "id": "0a3e6de6-f529-4fc3-adb1-3d8da1e866c8",
   "metadata": {},
   "outputs": [],
   "source": [
    "import os\n",
    "from sklearn.model_selection import train_test_split\n",
    "import shutil"
   ]
  },
  {
   "cell_type": "code",
   "execution_count": 31,
   "id": "d5671eaa-e47a-44f4-877d-5d54126c9708",
   "metadata": {},
   "outputs": [],
   "source": [
    "dataset_path = '../chess-dataset/output'"
   ]
  },
  {
   "cell_type": "code",
   "execution_count": 32,
   "id": "0f0dede5-8048-44d3-aa12-3cc52b3d259f",
   "metadata": {},
   "outputs": [],
   "source": [
    "# Создание новых директорий для train и val\n",
    "train_dir = os.path.join('dataset', 'train')\n",
    "val_dir = os.path.join('dataset', 'val')\n",
    "\n",
    "os.makedirs(train_dir, exist_ok=True)\n",
    "os.makedirs(val_dir, exist_ok=True)"
   ]
  },
  {
   "cell_type": "code",
   "execution_count": 33,
   "id": "236beb57-e328-48cb-8fda-277ef195275f",
   "metadata": {},
   "outputs": [
    {
     "data": {
      "text/plain": [
       "7000"
      ]
     },
     "execution_count": 33,
     "metadata": {},
     "output_type": "execute_result"
    }
   ],
   "source": [
    "# Получение списка всех файлов в директории\n",
    "all_files = [f for f in os.listdir(dataset_path) if os.path.isfile(os.path.join(dataset_path, f))]\n",
    "len(all_files)"
   ]
  },
  {
   "cell_type": "code",
   "execution_count": 34,
   "id": "9bae1e45-a7fc-41f7-81b3-94aa155ec7f9",
   "metadata": {},
   "outputs": [],
   "source": [
    "# Разделение данных\n",
    "train_files, val_files = train_test_split(all_files, test_size=0.2, random_state=42)"
   ]
  },
  {
   "cell_type": "code",
   "execution_count": 35,
   "id": "43d1ba5a-737a-46c1-97e0-c6502d8d489a",
   "metadata": {},
   "outputs": [
    {
     "name": "stdout",
     "output_type": "stream",
     "text": [
      "Training set: 5600 images\n",
      "Validation set: 1400 images\n"
     ]
    }
   ],
   "source": [
    "print(f\"Training set: {len(train_files)} images\")\n",
    "print(f\"Validation set: {len(val_files)} images\")"
   ]
  },
  {
   "cell_type": "code",
   "execution_count": 36,
   "id": "703e5325-92a8-4bbd-9271-5121de3e37ed",
   "metadata": {},
   "outputs": [],
   "source": [
    "# Копирование файлов в соответствующие директории\n",
    "for file in train_files:\n",
    "    shutil.copy(os.path.join(dataset_path, file), os.path.join(train_dir, file))\n",
    "\n",
    "for file in val_files:\n",
    "    shutil.copy(os.path.join(dataset_path, file), os.path.join(val_dir, file))"
   ]
  },
  {
   "cell_type": "code",
   "execution_count": 37,
   "id": "5bf3d940-5c63-45da-882d-7dedfd9c863d",
   "metadata": {},
   "outputs": [
    {
     "name": "stdout",
     "output_type": "stream",
     "text": [
      "Training set: 5600 images\n",
      "Validation set: 1400 images\n"
     ]
    }
   ],
   "source": [
    "print(f\"Training set: {len(train_files)} images\")\n",
    "print(f\"Validation set: {len(val_files)} images\")"
   ]
  }
 ],
 "metadata": {
  "kernelspec": {
   "display_name": "Python (venv)",
   "language": "python",
   "name": "venv"
  },
  "language_info": {
   "codemirror_mode": {
    "name": "ipython",
    "version": 3
   },
   "file_extension": ".py",
   "mimetype": "text/x-python",
   "name": "python",
   "nbconvert_exporter": "python",
   "pygments_lexer": "ipython3",
   "version": "3.12.2"
  }
 },
 "nbformat": 4,
 "nbformat_minor": 5
}
